{
 "cells": [
  {
   "cell_type": "code",
   "execution_count": 26,
   "id": "3cce5317",
   "metadata": {},
   "outputs": [],
   "source": [
    "import tkinter as tk\n",
    "from tkinter import filedialog\n",
    "from tkinter import *\n",
    "%run \"C:\\Users\\baqar\\Desktop\\VintageColorizer\\Lib\\colourizer.ipynb\"\n",
    "from PIL import ImageTk, Image\n",
    "import cv2\n",
    "import os"
   ]
  },
  {
   "cell_type": "code",
   "execution_count": 37,
   "id": "27fa01ad",
   "metadata": {},
   "outputs": [],
   "source": [
    "top=tk.Tk ()\n",
    "#top.geometry('1000×600')\n",
    "top.title ('Vintage Colorizer')\n",
    "#top.iconbitmap ('.\\\\images\\\\icon\\\\icon.PNG')\n",
    "top.configure (background='white')"
   ]
  },
  {
   "cell_type": "code",
   "execution_count": null,
   "id": "e1b96bac",
   "metadata": {},
   "outputs": [],
   "source": []
  },
  {
   "cell_type": "code",
   "execution_count": null,
   "id": "5f366fa0",
   "metadata": {},
   "outputs": [],
   "source": []
  }
 ],
 "metadata": {
  "kernelspec": {
   "display_name": "Python 3 (ipykernel)",
   "language": "python",
   "name": "python3"
  },
  "language_info": {
   "codemirror_mode": {
    "name": "ipython",
    "version": 3
   },
   "file_extension": ".py",
   "mimetype": "text/x-python",
   "name": "python",
   "nbconvert_exporter": "python",
   "pygments_lexer": "ipython3",
   "version": "3.11.4"
  }
 },
 "nbformat": 4,
 "nbformat_minor": 5
}
