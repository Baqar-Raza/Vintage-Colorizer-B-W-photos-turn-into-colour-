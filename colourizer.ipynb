{
 "cells": [
  {
   "cell_type": "code",
   "execution_count": 1,
   "id": "045f042b",
   "metadata": {},
   "outputs": [],
   "source": [
    "import numpy as np\n",
    "import cv2\n",
    "from cv2 import dnn"
   ]
  },
  {
   "cell_type": "code",
   "execution_count": 7,
   "id": "877612e0",
   "metadata": {},
   "outputs": [
    {
     "data": {
      "text/plain": [
       "-1"
      ]
     },
     "execution_count": 7,
     "metadata": {},
     "output_type": "execute_result"
    }
   ],
   "source": [
    "net = cv2.dnn.readNetFromCaffe('.\\\\model\\\\colorization_deploy_v2.prototxt', '.\\\\model\\\\colorization_release_v2.caffemodel')\n",
    "points = np.load('.\\\\model\\\\pts_in_hull.npy')\n",
    "img_path = ('.\\\\images\\\\sample\\\\sample10.jpg')\n",
    "class8= net.getLayerId(\"class8_ab\")\n",
    "conv8 = net.getLayerId(\"conv8_313_rh\")\n",
    "points = points.transpose().reshape(2, 313, 1, 1)\n",
    "net.getLayer(class8).blobs = [points.astype(\"float32\")]\n",
    "net.getLayer(conv8).blobs = [np.full([1, 313], 2.606, dtype=\"float32\")]\n",
    "\n",
    "img = cv2.imread(img_path)\n",
    "scaled = img.astype(\"float32\") / 255.0\n",
    "lab_img = cv2.cvtColor(scaled, cv2.COLOR_BGR2LAB)\n",
    "\n",
    "resized_img = cv2.resize(lab_img, (224, 224))\n",
    "# split the L channel\n",
    "L = cv2.split(resized_img)[0]\n",
    "# mean subtraction\n",
    "L -= 50\n",
    "\n",
    "net.setInput(cv2.dnn.blobFromImage(L))\n",
    "ab = net.forward()[0, :, :, :].transpose((1, 2, 0))\n",
    "# resize the predicted 'ab' volume to the same dimensions as our\n",
    "# input image\n",
    "ab = cv2.resize(ab, (img.shape[1], img.shape[0]))\n",
    "\n",
    "\n",
    "# Take the L channel from the image\n",
    "L = cv2.split(lab_img)[0]\n",
    "# Join the L channel with predicted ab channel\n",
    "colorized_img = np.concatenate((L[:, :, np.newaxis], ab), axis=2)\n",
    "\n",
    "# Then convert the image from Lab to BGR \n",
    "colorized_img = cv2.cvtColor(colorized_img, cv2.COLOR_LAB2BGR)\n",
    "colorized_img = np.clip(colorized_img, 0, 1)\n",
    "\n",
    "# change the image to 0-255 range and convert it from float32 to int\n",
    "colorized_img = (255 * colorized_img).astype(\"uint8\")\n",
    "    # Let's resize the images and show them together\n",
    "img = cv2.resize(img,(640,640))\n",
    "colorized = cv2.resize(colorized_img,(640,640))\n",
    " \n",
    "result = cv2.hconcat([img,colorized])\n",
    " \n",
    "cv2.imshow(\"Grayscale -> Colour\", result)\n",
    " \n",
    "cv2.waitKey(0)\n"
   ]
  },
  {
   "cell_type": "code",
   "execution_count": null,
   "id": "cd90000a",
   "metadata": {},
   "outputs": [],
   "source": []
  },
  {
   "cell_type": "code",
   "execution_count": null,
   "id": "769fafce",
   "metadata": {},
   "outputs": [],
   "source": []
  }
 ],
 "metadata": {
  "kernelspec": {
   "display_name": "Python 3 (ipykernel)",
   "language": "python",
   "name": "python3"
  },
  "language_info": {
   "codemirror_mode": {
    "name": "ipython",
    "version": 3
   },
   "file_extension": ".py",
   "mimetype": "text/x-python",
   "name": "python",
   "nbconvert_exporter": "python",
   "pygments_lexer": "ipython3",
   "version": "3.11.4"
  }
 },
 "nbformat": 4,
 "nbformat_minor": 5
}
